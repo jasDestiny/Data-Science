{
 "cells": [
  {
   "cell_type": "code",
   "execution_count": 5,
   "metadata": {},
   "outputs": [
    {
     "name": "stdout",
     "output_type": "stream",
     "text": [
      "Please enter file nameschedule.csv\n",
      "Enter column name that identifies slotSlot\n",
      "Enter value that identifies morning batchOK\n"
     ]
    },
    {
     "name": "stderr",
     "output_type": "stream",
     "text": [
      "C:\\Users\\JohnConda\\lib\\site-packages\\ipykernel_launcher.py:19: SettingWithCopyWarning: \n",
      "A value is trying to be set on a copy of a slice from a DataFrame.\n",
      "Try using .loc[row_indexer,col_indexer] = value instead\n",
      "\n",
      "See the caveats in the documentation: https://pandas.pydata.org/pandas-docs/stable/user_guide/indexing.html#returning-a-view-versus-a-copy\n",
      "C:\\Users\\JohnConda\\lib\\site-packages\\ipykernel_launcher.py:20: SettingWithCopyWarning: \n",
      "A value is trying to be set on a copy of a slice from a DataFrame.\n",
      "Try using .loc[row_indexer,col_indexer] = value instead\n",
      "\n",
      "See the caveats in the documentation: https://pandas.pydata.org/pandas-docs/stable/user_guide/indexing.html#returning-a-view-versus-a-copy\n",
      "C:\\Users\\JohnConda\\lib\\site-packages\\ipykernel_launcher.py:21: SettingWithCopyWarning: \n",
      "A value is trying to be set on a copy of a slice from a DataFrame.\n",
      "Try using .loc[row_indexer,col_indexer] = value instead\n",
      "\n",
      "See the caveats in the documentation: https://pandas.pydata.org/pandas-docs/stable/user_guide/indexing.html#returning-a-view-versus-a-copy\n",
      "C:\\Users\\JohnConda\\lib\\site-packages\\ipykernel_launcher.py:22: SettingWithCopyWarning: \n",
      "A value is trying to be set on a copy of a slice from a DataFrame.\n",
      "Try using .loc[row_indexer,col_indexer] = value instead\n",
      "\n",
      "See the caveats in the documentation: https://pandas.pydata.org/pandas-docs/stable/user_guide/indexing.html#returning-a-view-versus-a-copy\n",
      "C:\\Users\\JohnConda\\lib\\site-packages\\ipykernel_launcher.py:23: SettingWithCopyWarning: \n",
      "A value is trying to be set on a copy of a slice from a DataFrame.\n",
      "Try using .loc[row_indexer,col_indexer] = value instead\n",
      "\n",
      "See the caveats in the documentation: https://pandas.pydata.org/pandas-docs/stable/user_guide/indexing.html#returning-a-view-versus-a-copy\n",
      "C:\\Users\\JohnConda\\lib\\site-packages\\ipykernel_launcher.py:24: SettingWithCopyWarning: \n",
      "A value is trying to be set on a copy of a slice from a DataFrame.\n",
      "Try using .loc[row_indexer,col_indexer] = value instead\n",
      "\n",
      "See the caveats in the documentation: https://pandas.pydata.org/pandas-docs/stable/user_guide/indexing.html#returning-a-view-versus-a-copy\n",
      "C:\\Users\\JohnConda\\lib\\site-packages\\ipykernel_launcher.py:25: SettingWithCopyWarning: \n",
      "A value is trying to be set on a copy of a slice from a DataFrame.\n",
      "Try using .loc[row_indexer,col_indexer] = value instead\n",
      "\n",
      "See the caveats in the documentation: https://pandas.pydata.org/pandas-docs/stable/user_guide/indexing.html#returning-a-view-versus-a-copy\n",
      "C:\\Users\\JohnConda\\lib\\site-packages\\ipykernel_launcher.py:26: SettingWithCopyWarning: \n",
      "A value is trying to be set on a copy of a slice from a DataFrame.\n",
      "Try using .loc[row_indexer,col_indexer] = value instead\n",
      "\n",
      "See the caveats in the documentation: https://pandas.pydata.org/pandas-docs/stable/user_guide/indexing.html#returning-a-view-versus-a-copy\n"
     ]
    }
   ],
   "source": [
    "import pandas as pd\n",
    "\n",
    "fileName=str(input(\"Please enter file name\"))\n",
    "rf=pd.read_csv(fileName)\n",
    "\n",
    "#sparation of morning and afternoon slots\n",
    "colName=str(input(\"Enter column name that identifies slot\"))\n",
    "val=str(input(\"Enter value that identifies morning batch\"))\n",
    "afternoon=rf[rf[colName]!=val]\n",
    "morning=rf[rf[colName]==val]\n",
    "\n",
    "#printing to check\n",
    "afternoon\n",
    "morning\n",
    "\n",
    "#creating list to set as columns\n",
    "days=[i for i in range(1,100,1) for j in range(1,10,1)]\n",
    "status=[\"Not yet done\" for i in range(1,100,1)]\n",
    "startingTime=[i for j in range(0,100,1) for i in range(0,45,5)]\n",
    "endingTime=[i+5 for j in range(0,100,1) for i in range(0,45,5)]\n",
    "\n",
    "#code to add 2 new columns\n",
    "afternoon[\"Day number\"]=days[0:len(afternoon)]\n",
    "morning[\"Day number\"]=days[0:len(morning)]\n",
    "afternoon[\"Starting time(in mins)\"]=startingTime[0:len(afternoon)]\n",
    "afternoon[\"Ending time(in mins)\"]=endingTime[0:len(afternoon)]\n",
    "morning[\"Starting time(in mins)\"]=startingTime[0:len(morning)]\n",
    "morning[\"Ending time(in mins)\"]=endingTime[0:len(morning)]\n",
    "morning[\"Status\"]=status[0:len(morning)]\n",
    "afternoon[\"Status\"]=status[0:len(afternoon)]\n",
    "\n",
    "#exporting them to csv\n",
    "afternoon.to_csv(\"afternoon.csv\")\n",
    "morning.to_csv(\"morning.csv\")\n"
   ]
  }
 ],
 "metadata": {
  "kernelspec": {
   "display_name": "Python 3",
   "language": "python",
   "name": "python3"
  },
  "language_info": {
   "codemirror_mode": {
    "name": "ipython",
    "version": 3
   },
   "file_extension": ".py",
   "mimetype": "text/x-python",
   "name": "python",
   "nbconvert_exporter": "python",
   "pygments_lexer": "ipython3",
   "version": "3.7.6"
  }
 },
 "nbformat": 4,
 "nbformat_minor": 4
}
